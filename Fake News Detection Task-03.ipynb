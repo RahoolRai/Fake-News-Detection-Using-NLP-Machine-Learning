{
  "cells": [
    {
      "cell_type": "markdown",
      "metadata": {},
      "source": [
        "# 📰 Fake News Detection using NLP & Machine Learning\n",
        "\n",
        "**📘 Project Overview**\n",
        "This project tackles the growing problem of misinformation by using Natural Language Processing (NLP) and Machine Learning (ML) techniques to build a model that can detect fake news articles. It involves analyzing article content, cleaning and transforming text, extracting features using TF-IDF, and training classification models to identify news as real or fake.\n",
        "\n",
        "**🎯 Objective:**\n",
        "To develop a reliable and interpretable machine learning model that automatically classifies news content as Fake (0) or True (1), thereby helping platforms, journalists, and users combat digital misinformation.\n",
        "\n",
        "\n",
        "**📊 Dataset Description**\n",
        "Source: Kaggle – Fake and Real News Dataset and Records: 44,000+ articles\n",
        "\n",
        "**Features :** \n",
        "\n",
        "🏷️ Title\n",
        "📄 Article\n",
        "📝 Text\n",
        "📰 News\n",
        "📚 Subject\n",
        "✅ Label (Fake = 0, Real = 1)\n",
        "\n",
        "**🛠️ Tools Used :** \n",
        "\n",
        "🐍 Python \n",
        "📒 Jupyter Notebook   \n",
        "📚 Pandas, NumPy \n",
        "✍️ TF-IDF Vectorizer  \n",
        "🧠 Logistic Regression\n",
        "📉 Matplotlib, Seaborn  \n",
        "🌐 Streamlit (for app deployment)\n",
        "\n",
        "**🔑 Key Insights**\n",
        "📌 Fake news articles often use more sensational language and shorter content.\n",
        "\n",
        "📚 Preprocessing (lemmatization, stopword removal) significantly improves model performance.\n",
        "\n",
        "🔍 TF-IDF allows meaningful text representation by reducing common word bias.\n",
        "\n",
        "✅ Logistic Regression and Multinomial Naive Bayes offer good baseline results with TF-IDF features.\n",
        "\n",
        "**🤖 ML Model Summary**\n",
        "Models Used: Logistic Regression, Multinomial Naive Bayes\n",
        "\n",
        "Accuracy: ~95% (TF-IDF + Naive Bayes)\n",
        "\n",
        "Evaluation: Confusion Matrix, Accuracy, Classification Report\n",
        "\n",
        "Deployment: Streamlit Web App – Real-time classification of input news content\n",
        "\n",
        "**💡 Recommendation**\n",
        "To combat misinformation:\n",
        "\n",
        "Integrate fake news detection into content moderation systems\n",
        "\n",
        "Use NLP-powered alerts for flagging suspicious headlines\n",
        "\n",
        "Provide feedback loops for reader validation\n",
        "\n",
        "Continuously retrain models with newer datasets to adapt to evolving language\n",
        "\n",
        "**📁 Project Files**\n",
        "fake-news-detection.ipynb: Full notebook with code and insights\n",
        "\n",
        "model.pkl / vectorizer.pkl: Trained model and TF-IDF vectorizer\n",
        "\n",
        "app.py: Streamlit frontend\n",
        "\n",
        "Fake.csv, True.csv: Raw datasets"
      ]
    },
    {
      "cell_type": "markdown",
      "metadata": {},
      "source": [
        "# 📘 Step 1: Importing Required Libraries\n",
        "We import essential Python libraries like pandas, numpy, nltk, and sklearn to handle data processing, text cleaning, and machine learning.\n",
        "These libraries help us read the fake/true news CSV files, clean the text, extract features, and build prediction models."
      ]
    },
    {
      "cell_type": "code",
      "execution_count": 1,
      "metadata": {
        "id": "awcwnrBMAuWP"
      },
      "outputs": [],
      "source": [
        "import pandas as pd\n",
        "import numpy as np\n",
        "import matplotlib.pyplot as plt\n",
        "import seaborn as sns\n",
        "\n",
        "import nltk\n",
        "import spacy\n",
        "from nltk.corpus import stopwords\n",
        "from nltk.stem import WordNetLemmatizer\n",
        "import string\n",
        "import re\n",
        "\n",
        "from sklearn.model_selection import train_test_split\n",
        "from sklearn.feature_extraction.text import TfidfVectorizer\n",
        "from sklearn.linear_model import LogisticRegression\n",
        "from sklearn.naive_bayes import MultinomialNB\n",
        "from sklearn.metrics import classification_report, confusion_matrix, accuracy_score\n",
        "\n",
        "import warnings\n",
        "warnings.filterwarnings('ignore')\n"
      ]
    },
    {
      "cell_type": "markdown",
      "metadata": {},
      "source": [
        "# 📘 Step 2: Load and Label the Dataset\n",
        "We load fake.csv and true.csv using pandas to access the news articles.\n",
        "A new column named label is added to each dataset (0 = Fake, 1 = True) to help the model distinguish between real and fake news."
      ]
    },
    {
      "cell_type": "code",
      "execution_count": 2,
      "metadata": {
        "colab": {
          "base_uri": "https://localhost:8080/",
          "height": 206
        },
        "id": "H3CsY-mGBCDs",
        "outputId": "0f5b8d01-1401-4753-972f-9a3484b1b447"
      },
      "outputs": [
        {
          "data": {
            "text/html": [
              "<div>\n",
              "<style scoped>\n",
              "    .dataframe tbody tr th:only-of-type {\n",
              "        vertical-align: middle;\n",
              "    }\n",
              "\n",
              "    .dataframe tbody tr th {\n",
              "        vertical-align: top;\n",
              "    }\n",
              "\n",
              "    .dataframe thead th {\n",
              "        text-align: right;\n",
              "    }\n",
              "</style>\n",
              "<table border=\"1\" class=\"dataframe\">\n",
              "  <thead>\n",
              "    <tr style=\"text-align: right;\">\n",
              "      <th></th>\n",
              "      <th>title</th>\n",
              "      <th>text</th>\n",
              "      <th>subject</th>\n",
              "      <th>date</th>\n",
              "      <th>label</th>\n",
              "    </tr>\n",
              "  </thead>\n",
              "  <tbody>\n",
              "    <tr>\n",
              "      <th>0</th>\n",
              "      <td>Donald Trump Sends Out Embarrassing New Year’...</td>\n",
              "      <td>Donald Trump just couldn t wish all Americans ...</td>\n",
              "      <td>News</td>\n",
              "      <td>December 31, 2017</td>\n",
              "      <td>0</td>\n",
              "    </tr>\n",
              "    <tr>\n",
              "      <th>1</th>\n",
              "      <td>Drunk Bragging Trump Staffer Started Russian ...</td>\n",
              "      <td>House Intelligence Committee Chairman Devin Nu...</td>\n",
              "      <td>News</td>\n",
              "      <td>December 31, 2017</td>\n",
              "      <td>0</td>\n",
              "    </tr>\n",
              "    <tr>\n",
              "      <th>2</th>\n",
              "      <td>Sheriff David Clarke Becomes An Internet Joke...</td>\n",
              "      <td>On Friday, it was revealed that former Milwauk...</td>\n",
              "      <td>News</td>\n",
              "      <td>December 30, 2017</td>\n",
              "      <td>0</td>\n",
              "    </tr>\n",
              "    <tr>\n",
              "      <th>3</th>\n",
              "      <td>Trump Is So Obsessed He Even Has Obama’s Name...</td>\n",
              "      <td>On Christmas day, Donald Trump announced that ...</td>\n",
              "      <td>News</td>\n",
              "      <td>December 29, 2017</td>\n",
              "      <td>0</td>\n",
              "    </tr>\n",
              "    <tr>\n",
              "      <th>4</th>\n",
              "      <td>Pope Francis Just Called Out Donald Trump Dur...</td>\n",
              "      <td>Pope Francis used his annual Christmas Day mes...</td>\n",
              "      <td>News</td>\n",
              "      <td>December 25, 2017</td>\n",
              "      <td>0</td>\n",
              "    </tr>\n",
              "  </tbody>\n",
              "</table>\n",
              "</div>"
            ],
            "text/plain": [
              "                                               title  \\\n",
              "0   Donald Trump Sends Out Embarrassing New Year’...   \n",
              "1   Drunk Bragging Trump Staffer Started Russian ...   \n",
              "2   Sheriff David Clarke Becomes An Internet Joke...   \n",
              "3   Trump Is So Obsessed He Even Has Obama’s Name...   \n",
              "4   Pope Francis Just Called Out Donald Trump Dur...   \n",
              "\n",
              "                                                text subject  \\\n",
              "0  Donald Trump just couldn t wish all Americans ...    News   \n",
              "1  House Intelligence Committee Chairman Devin Nu...    News   \n",
              "2  On Friday, it was revealed that former Milwauk...    News   \n",
              "3  On Christmas day, Donald Trump announced that ...    News   \n",
              "4  Pope Francis used his annual Christmas Day mes...    News   \n",
              "\n",
              "                date  label  \n",
              "0  December 31, 2017      0  \n",
              "1  December 31, 2017      0  \n",
              "2  December 30, 2017      0  \n",
              "3  December 29, 2017      0  \n",
              "4  December 25, 2017      0  "
            ]
          },
          "execution_count": 2,
          "metadata": {},
          "output_type": "execute_result"
        }
      ],
      "source": [
        "df = pd.read_csv(\"Fake.csv\")\n",
        "df['label'] = 0\n",
        "\n",
        "df_real = pd.read_csv(\"True.csv\")\n",
        "df_real['label'] = 1\n",
        "\n",
        "df = pd.concat([df, df_real], ignore_index=True)\n",
        "\n",
        "df.head()\n"
      ]
    },
    {
      "cell_type": "markdown",
      "metadata": {
        "id": "75O8MhbRBVa8"
      },
      "source": [
        "# 📘 Step 3: Data Preprocessing & Cleaning\n",
        "We clean the text by removing punctuation, stopwords, and converting all text to lowercase to standardize the input.\n",
        "This step improves model accuracy by eliminating noise and focusing on meaningful words in the news content."
      ]
    },
    {
      "cell_type": "code",
      "execution_count": 3,
      "metadata": {
        "colab": {
          "base_uri": "https://localhost:8080/"
        },
        "id": "ZWDWbtezBTR1",
        "outputId": "354301e4-6661-4e27-b174-e3664f956bb3"
      },
      "outputs": [
        {
          "name": "stdout",
          "output_type": "stream",
          "text": [
            "title    0\n",
            "text     0\n",
            "label    0\n",
            "dtype: int64\n"
          ]
        }
      ],
      "source": [
        "# 🧹 Remove irrelevant columns that are not useful for analysis\n",
        "df = df.drop(['subject', 'date'], axis=1)\n",
        "\n",
        "print(df.isnull().sum())\n",
        "\n",
        "df['content'] = df['title'] + ' ' + df['text']\n",
        "\n",
        "df = df.drop(['title', 'text'], axis=1)\n"
      ]
    },
    {
      "cell_type": "markdown",
      "metadata": {
        "id": "flhW8Y1XBnJY"
      },
      "source": [
        "# 📘 Step 4: Setup NLTK for Text Preprocessing Text Normalization\n",
        "We download necessary NLTK resources like stopwords, punkt, and wordnet to support tokenization, stopword removal, and lemmatization.\n",
        "These tools help normalize the news text by breaking it into words and reducing them to their base forms for consistent processing."
      ]
    },
    {
      "cell_type": "code",
      "execution_count": 4,
      "metadata": {
        "colab": {
          "base_uri": "https://localhost:8080/"
        },
        "id": "783e3822",
        "outputId": "48788f20-b10d-4d7a-dd15-3858fbb7f74f"
      },
      "outputs": [
        {
          "name": "stderr",
          "output_type": "stream",
          "text": [
            "[nltk_data] Downloading package stopwords to C:\\Users\\Rahool-\n",
            "[nltk_data]     Rai\\AppData\\Roaming\\nltk_data...\n",
            "[nltk_data]   Package stopwords is already up-to-date!\n",
            "[nltk_data] Downloading package punkt to C:\\Users\\Rahool-\n",
            "[nltk_data]     Rai\\AppData\\Roaming\\nltk_data...\n",
            "[nltk_data]   Package punkt is already up-to-date!\n",
            "[nltk_data] Downloading package wordnet to C:\\Users\\Rahool-\n",
            "[nltk_data]     Rai\\AppData\\Roaming\\nltk_data...\n",
            "[nltk_data]   Package wordnet is already up-to-date!\n",
            "[nltk_data] Downloading package punkt_tab to C:\\Users\\Rahool-\n",
            "[nltk_data]     Rai\\AppData\\Roaming\\nltk_data...\n",
            "[nltk_data]   Package punkt_tab is already up-to-date!\n"
          ]
        },
        {
          "data": {
            "text/plain": [
              "True"
            ]
          },
          "execution_count": 4,
          "metadata": {},
          "output_type": "execute_result"
        }
      ],
      "source": [
        "# 📥 Download required NLTK resources for preprocessing\n",
        "import nltk\n",
        "nltk.download('stopwords')\n",
        "nltk.download('punkt')\n",
        "nltk.download('wordnet')\n",
        "nltk.download('punkt_tab')\n"
      ]
    },
    {
      "cell_type": "markdown",
      "metadata": {},
      "source": [
        "# 📘 Step 5: Text Cleaning & Lemmatization\n",
        "We apply text cleaning techniques such as removing numbers, special characters, and stopwords, followed by lemmatization using NLTK.\n",
        "Lemmatization reduces words to their base form (e.g., “running” → “run”), making the dataset more consistent for model training."
      ]
    },
    {
      "cell_type": "code",
      "execution_count": 5,
      "metadata": {
        "id": "JMbDwdYKCstr"
      },
      "outputs": [],
      "source": [
        "# ✅ Define English stopwords (e.g., \"is\", \"the\", \"and\")\n",
        "stop_words = set(stopwords.words('english'))\n",
        "\n",
        "# ✅ Create a lemmatizer to reduce words to their base form\n",
        "lemmatizer = WordNetLemmatizer()\n",
        "\n",
        "# 🧼 Define a function to clean the text\n",
        "def clean_text(text):\n",
        "    # 🔡 Convert all text to lowercase\n",
        "    text = text.lower()\n",
        "\n",
        "    # ❌ Remove text in square brackets (e.g., [1])\n",
        "    text = re.sub(r'\\[.*?\\]', '', text)\n",
        "\n",
        "    # 🌐 Remove URLs\n",
        "    text = re.sub(r'https?://\\S+|www\\.\\S+', '', text)\n",
        "\n",
        "    # 🧽 Remove HTML tags\n",
        "    text = re.sub(r'<.*?>+', '', text)\n",
        "\n",
        "    # 🧹 Remove punctuation\n",
        "    text = re.sub(r'[%s]' % re.escape(string.punctuation), '', text)\n",
        "\n",
        "    # 🧾 Remove newline characters\n",
        "    text = re.sub(r'\\n', '', text)\n",
        "\n",
        "    # 🔢 Remove words containing numbers\n",
        "    text = re.sub(r'\\w*\\d\\w*', '', text)\n",
        "\n",
        "    # ✂️ Tokenize the cleaned text\n",
        "    tokens = nltk.word_tokenize(text)\n",
        "\n",
        "    # 🚫 Remove stopwords and apply lemmatization\n",
        "    cleaned = [lemmatizer.lemmatize(word) for word in tokens if word not in stop_words]\n",
        "\n",
        "    # 🔁 Join tokens back into a cleaned string\n",
        "    return \" \".join(cleaned)\n",
        "\n",
        "# 🧪 Apply the cleaning function to the dataset\n",
        "df['cleaned_content'] = df['content'].apply(clean_text)\n"
      ]
    },
    {
      "cell_type": "markdown",
      "metadata": {
        "id": "haWdqvg2DK8c"
      },
      "source": [
        "# 📘 Step 6: Basic Visualization – Class Distribution & Article Length and EDA \n",
        "We visualize the distribution of real vs. fake news and analyze article lengths using histograms and countplots.\n",
        "This Exploratory Data Analysis (EDA) helps us understand class balance, spot outliers, and uncover key patterns in the dataset."
      ]
    },
    {
      "cell_type": "code",
      "execution_count": 6,
      "metadata": {
        "colab": {
          "base_uri": "https://localhost:8080/",
          "height": 927
        },
        "id": "NQSmN3M8DNxC",
        "outputId": "f0aca2ea-f45c-42a5-9f2e-40f8baf045e8"
      },
      "outputs": [
        {
          "data": {
            "image/png": "[encoded data removed]",
            "text/plain": [
              "<Figure size 640x480 with 1 Axes>"
            ]
          },
          "metadata": {},
          "output_type": "display_data"
        },
        {
          "data": {
            "image/png": "[encoded data removed]",
            "text/plain": [
              "<Figure size 640x480 with 1 Axes>"
            ]
          },
          "metadata": {},
          "output_type": "display_data"
        }
      ],
      "source": [
        "# 📊 1. Class Distribution: Count of Fake vs Real News Articles\n",
        "sns.countplot(x='label', data=df)  # Bar plot of label counts\n",
        "plt.title(\"🧾 Fake (0) vs Real (1) News Distribution\")\n",
        "plt.xlabel(\"News Type\")\n",
        "plt.ylabel(\"Count\")\n",
        "plt.show()\n",
        "\n",
        "# 📏 2. Article Length Distribution: Word count in cleaned articles\n",
        "df['length'] = df['cleaned_content'].apply(lambda x: len(x.split()))  # Count number of words\n",
        "\n",
        "# 📈 Histogram of article lengths\n",
        "sns.histplot(df['length'], bins=50, kde=True, color='skyblue')  # 50 bins for granularity\n",
        "plt.title(\"📝 Cleaned Article Length Distribution\")\n",
        "plt.xlabel(\"Number of Words\")\n",
        "plt.ylabel(\"Frequency\")\n",
        "plt.show()\n"
      ]
    },
    {
      "cell_type": "markdown",
      "metadata": {
        "id": "PGkvkfR5DUvi"
      },
      "source": [
        "# 📘 Step 7: Feature Extraction using TF-IDF and Text to Vectors (TF-IDF)\n",
        "We use TF-IDF (Term Frequency–Inverse Document Frequency) to convert cleaned text into numerical vectors based on word importance.\n",
        "This step transforms raw news articles into a format that machine learning models can understand and learn from."
      ]
    },
    {
      "cell_type": "code",
      "execution_count": 7,
      "metadata": {
        "id": "pkPlEaqbDUCW"
      },
      "outputs": [],
      "source": [
        "# 📌 Initialize the TF-IDF Vectorizer\n",
        "vectorizer = TfidfVectorizer(max_features=5000)  # Limit to top 5000 words for efficiency\n",
        "\n",
        "# 🔁 Transform the cleaned text into TF-IDF vectors\n",
        "X = vectorizer.fit_transform(df['cleaned_content']).toarray()  # Features (inputs)\n",
        "\n",
        "# 🎯 Target variable: 0 = Fake, 1 = Real\n",
        "y = df['label']  # Labels (outputs)"
      ]
    },
    {
      "cell_type": "markdown",
      "metadata": {
        "id": "GNbKTRXODiil"
      },
      "source": [
        "# 📘Step 8: Splitting Data – Train vs Test Sets and Train/Test Split\n",
        "We split the dataset into training and testing sets using train_test_split to evaluate model performance on unseen data.\n",
        "This ensures the model learns patterns from the training data and is fairly tested on separate, untouched examples."
      ]
    },
    {
      "cell_type": "code",
      "execution_count": 8,
      "metadata": {
        "id": "SVwNrQQhDj-U"
      },
      "outputs": [],
      "source": [
        "X_train, X_test, y_train, y_test = train_test_split(X, y, test_size=0.2, random_state=42)\n"
      ]
    },
    {
      "cell_type": "markdown",
      "metadata": {
        "id": "65kUp3XTDunn"
      },
      "source": [
        "# 📘 Step 9: Model Training – Logistic Regression and  Train Models \n",
        "We train a Logistic Regression model on the TF-IDF features from the training data to classify news as real or fake.\n",
        "This algorithm is efficient for binary classification and works well with high-dimensional text data like ours.\n"
      ]
    },
    {
      "cell_type": "code",
      "execution_count": 9,
      "metadata": {
        "id": "6jGZP42FDpYb"
      },
      "outputs": [],
      "source": [
        "# Model 1: Logistic Regression\n",
        "lr = LogisticRegression()\n",
        "lr.fit(X_train, y_train)\n",
        "y_pred_lr = lr.predict(X_test)"
      ]
    },
    {
      "cell_type": "markdown",
      "metadata": {
        "id": "9Vxl7n-HEENN"
      },
      "source": [
        "# 📘 Step 10: Model Training – Multinomial Naive Bayes\n",
        "We train a Multinomial Naive Bayes model, which is well-suited for text classification tasks based on word frequency features.\n",
        "It assumes word independence and performs efficiently on large text datasets like our news articles."
      ]
    },
    {
      "cell_type": "code",
      "execution_count": 10,
      "metadata": {
        "id": "e-Xkp-v_EF53"
      },
      "outputs": [],
      "source": [
        "# 🤖 Initialize the Multinomial Naive Bayes classifier\n",
        "nb = MultinomialNB()\n",
        "\n",
        "# 🎯 Train the Naive Bayes model on the training data\n",
        "nb.fit(X_train, y_train)\n",
        "\n",
        "# 🧪 Predict on the test set using the trained model\n",
        "y_pred_nb = nb.predict(X_test)\n"
      ]
    },
    {
      "cell_type": "markdown",
      "metadata": {
        "id": "2i96aAD3EJyz"
      },
      "source": [
        "# 📘 Step 11: Model Evaluation & Comparison\n",
        "We evaluate models using accuracy, precision, recall, and F1-score to measure their performance on the test data.\n",
        "A side-by-side comparison helps determine which model better distinguishes between fake and true news"
      ]
    },
    {
      "cell_type": "code",
      "execution_count": 11,
      "metadata": {
        "colab": {
          "base_uri": "https://localhost:8080/",
          "height": 1000
        },
        "id": "byH2brXyEJak",
        "outputId": "4cf8fb6a-b890-44bd-d2cc-51dc16d2b6b5"
      },
      "outputs": [
        {
          "name": "stdout",
          "output_type": "stream",
          "text": [
            "--- Logistic Regression ---\n",
            "Accuracy: 0.9868596881959911\n",
            "Classification Report:\n",
            "               precision    recall  f1-score   support\n",
            "\n",
            "           0       0.99      0.99      0.99      4733\n",
            "           1       0.99      0.99      0.99      4247\n",
            "\n",
            "    accuracy                           0.99      8980\n",
            "   macro avg       0.99      0.99      0.99      8980\n",
            "weighted avg       0.99      0.99      0.99      8980\n",
            "\n"
          ]
        },
        {
          "data": {
            "image/png": "[encoded data removed]",
            "text/plain": [
              "<Figure size 640x480 with 2 Axes>"
            ]
          },
          "metadata": {},
          "output_type": "display_data"
        },
        {
          "name": "stdout",
          "output_type": "stream",
          "text": [
            "--- Multinomial Naive Bayes ---\n",
            "Accuracy: 0.9251670378619153\n",
            "Classification Report:\n",
            "               precision    recall  f1-score   support\n",
            "\n",
            "           0       0.92      0.94      0.93      4733\n",
            "           1       0.93      0.91      0.92      4247\n",
            "\n",
            "    accuracy                           0.93      8980\n",
            "   macro avg       0.93      0.92      0.92      8980\n",
            "weighted avg       0.93      0.93      0.93      8980\n",
            "\n"
          ]
        },
        {
          "data": {
            "image/png": "[encoded data removed]",
            "text/plain": [
              "<Figure size 640x480 with 2 Axes>"
            ]
          },
          "metadata": {},
          "output_type": "display_data"
        }
      ],
      "source": [
        "# 📊 Function to evaluate model performance\n",
        "def evaluate_model(y_test, y_pred, name):\n",
        "    print(f\"--- {name} ---\")  # 📌 Model name\n",
        "    print(\"Accuracy:\", accuracy_score(y_test, y_pred))  # ✅ Accuracy score\n",
        "    print(\"Classification Report:\\n\", classification_report(y_test, y_pred))  # 📋 Precision, Recall, F1-score\n",
        "    \n",
        "    # 🔍 Confusion Matrix Visualization\n",
        "    cm = confusion_matrix(y_test, y_pred)\n",
        "    sns.heatmap(cm, annot=True, fmt='d', cmap=\"Blues\")\n",
        "    plt.title(f\"{name} - Confusion Matrix\")\n",
        "    plt.xlabel(\"Predicted\")\n",
        "    plt.ylabel(\"Actual\")\n",
        "    plt.show()\n",
        "\n",
        "# 📈 Evaluate Logistic Regression model\n",
        "evaluate_model(y_test, y_pred_lr, \"Logistic Regression\")\n",
        "\n",
        "# 📈 Evaluate Multinomial Naive Bayes model\n",
        "evaluate_model(y_test, y_pred_nb, \"Multinomial Naive Bayes\")\n"
      ]
    },
    {
      "cell_type": "markdown",
      "metadata": {
        "id": "Y1VxL0VsEXtm"
      },
      "source": [
        " # 📘 Step 12: Model Saving & Deployment Setup using Streamlit.\n",
        "We save the trained model and vectorizer using joblib, then build an interactive web app with Streamlit for real-time news prediction.\n",
        "This allows users to input news text and instantly get predictions on whether it's fake or true."
      ]
    },
    {
      "cell_type": "code",
      "execution_count": 12,
      "metadata": {
        "id": "BTCxe4q5ESYS"
      },
      "outputs": [],
      "source": [
        "# Save model\n",
        "import pickle\n",
        "pickle.dump(vectorizer, open(\"vectorizer.pkl\", \"wb\"))\n",
        "pickle.dump(lr, open(\"model.pkl\", \"wb\"))\n"
      ]
    },
    {
      "cell_type": "markdown",
      "metadata": {},
      "source": [
        "# Import streamlit Library"
      ]
    },
    {
      "cell_type": "code",
      "execution_count": 13,
      "metadata": {},
      "outputs": [
        {
          "name": "stdout",
          "output_type": "stream",
          "text": [
            "Defaulting to user installation because normal site-packages is not writeable\n",
            "Requirement already satisfied: streamlit in c:\\users\\rahool-rai\\appdata\\roaming\\python\\python310\\site-packages (1.45.1)\n",
            "Requirement already satisfied: tenacity<10,>=8.1.0 in c:\\users\\rahool-rai\\appdata\\roaming\\python\\python310\\site-packages (from streamlit) (9.1.2)\n",
            "Requirement already satisfied: gitpython!=3.1.19,<4,>=3.0.7 in c:\\users\\rahool-rai\\appdata\\roaming\\python\\python310\\site-packages (from streamlit) (3.1.44)\n",
            "Requirement already satisfied: toml<2,>=0.10.1 in c:\\users\\rahool-rai\\appdata\\roaming\\python\\python310\\site-packages (from streamlit) (0.10.2)\n",
            "Requirement already satisfied: tornado<7,>=6.0.3 in c:\\users\\rahool-rai\\appdata\\roaming\\python\\python310\\site-packages (from streamlit) (6.5)\n",
            "Requirement already satisfied: typing-extensions<5,>=4.4.0 in c:\\users\\rahool-rai\\appdata\\roaming\\python\\python310\\site-packages (from streamlit) (4.13.2)\n",
            "Requirement already satisfied: altair<6,>=4.0 in c:\\users\\rahool-rai\\appdata\\roaming\\python\\python310\\site-packages (from streamlit) (5.5.0)\n",
            "Requirement already satisfied: requests<3,>=2.27 in c:\\users\\rahool-rai\\appdata\\roaming\\python\\python310\\site-packages (from streamlit) (2.32.3)\n",
            "Requirement already satisfied: packaging<25,>=20 in c:\\users\\rahool-rai\\appdata\\roaming\\python\\python310\\site-packages (from streamlit) (24.2)\n",
            "Requirement already satisfied: numpy<3,>=1.23 in c:\\users\\rahool-rai\\appdata\\roaming\\python\\python310\\site-packages (from streamlit) (2.2.6)\n",
            "Requirement already satisfied: pandas<3,>=1.4.0 in c:\\users\\rahool-rai\\appdata\\roaming\\python\\python310\\site-packages (from streamlit) (2.2.3)\n",
            "Requirement already satisfied: watchdog<7,>=2.1.5 in c:\\users\\rahool-rai\\appdata\\roaming\\python\\python310\\site-packages (from streamlit) (6.0.0)\n",
            "Requirement already satisfied: pydeck<1,>=0.8.0b4 in c:\\users\\rahool-rai\\appdata\\roaming\\python\\python310\\site-packages (from streamlit) (0.9.1)\n",
            "Requirement already satisfied: cachetools<6,>=4.0 in c:\\users\\rahool-rai\\appdata\\roaming\\python\\python310\\site-packages (from streamlit) (5.5.2)\n",
            "Requirement already satisfied: pyarrow>=7.0 in c:\\users\\rahool-rai\\appdata\\roaming\\python\\python310\\site-packages (from streamlit) (20.0.0)\n",
            "Requirement already satisfied: pillow<12,>=7.1.0 in c:\\users\\rahool-rai\\appdata\\roaming\\python\\python310\\site-packages (from streamlit) (11.2.1)\n",
            "Requirement already satisfied: protobuf<7,>=3.20 in c:\\users\\rahool-rai\\appdata\\roaming\\python\\python310\\site-packages (from streamlit) (4.25.7)\n",
            "Requirement already satisfied: blinker<2,>=1.5.0 in c:\\users\\rahool-rai\\appdata\\roaming\\python\\python310\\site-packages (from streamlit) (1.9.0)\n",
            "Requirement already satisfied: click<9,>=7.0 in c:\\users\\rahool-rai\\appdata\\roaming\\python\\python310\\site-packages (from streamlit) (8.2.0)\n",
            "Requirement already satisfied: narwhals>=1.14.2 in c:\\users\\rahool-rai\\appdata\\roaming\\python\\python310\\site-packages (from altair<6,>=4.0->streamlit) (1.39.1)\n",
            "Requirement already satisfied: jinja2 in c:\\users\\rahool-rai\\appdata\\roaming\\python\\python310\\site-packages (from altair<6,>=4.0->streamlit) (3.1.6)\n",
            "Requirement already satisfied: jsonschema>=3.0 in c:\\users\\rahool-rai\\appdata\\roaming\\python\\python310\\site-packages (from altair<6,>=4.0->streamlit) (4.23.0)\n",
            "Requirement already satisfied: colorama in c:\\users\\rahool-rai\\appdata\\roaming\\python\\python310\\site-packages (from click<9,>=7.0->streamlit) (0.4.6)\n",
            "Requirement already satisfied: gitdb<5,>=4.0.1 in c:\\users\\rahool-rai\\appdata\\roaming\\python\\python310\\site-packages (from gitpython!=3.1.19,<4,>=3.0.7->streamlit) (4.0.12)\n",
            "Requirement already satisfied: smmap<6,>=3.0.1 in c:\\users\\rahool-rai\\appdata\\roaming\\python\\python310\\site-packages (from gitdb<5,>=4.0.1->gitpython!=3.1.19,<4,>=3.0.7->streamlit) (5.0.2)\n",
            "Requirement already satisfied: attrs>=22.2.0 in c:\\users\\rahool-rai\\appdata\\roaming\\python\\python310\\site-packages (from jsonschema>=3.0->altair<6,>=4.0->streamlit) (25.3.0)\n",
            "Requirement already satisfied: referencing>=0.28.4 in c:\\users\\rahool-rai\\appdata\\roaming\\python\\python310\\site-packages (from jsonschema>=3.0->altair<6,>=4.0->streamlit) (0.36.2)\n",
            "Requirement already satisfied: jsonschema-specifications>=2023.03.6 in c:\\users\\rahool-rai\\appdata\\roaming\\python\\python310\\site-packages (from jsonschema>=3.0->altair<6,>=4.0->streamlit) (2025.4.1)\n",
            "Requirement already satisfied: rpds-py>=0.7.1 in c:\\users\\rahool-rai\\appdata\\roaming\\python\\python310\\site-packages (from jsonschema>=3.0->altair<6,>=4.0->streamlit) (0.25.0)\n",
            "Requirement already satisfied: pytz>=2020.1 in c:\\users\\rahool-rai\\appdata\\roaming\\python\\python310\\site-packages (from pandas<3,>=1.4.0->streamlit) (2025.2)\n",
            "Requirement already satisfied: python-dateutil>=2.8.2 in c:\\users\\rahool-rai\\appdata\\roaming\\python\\python310\\site-packages (from pandas<3,>=1.4.0->streamlit) (2.9.0.post0)\n",
            "Requirement already satisfied: tzdata>=2022.7 in c:\\users\\rahool-rai\\appdata\\roaming\\python\\python310\\site-packages (from pandas<3,>=1.4.0->streamlit) (2025.2)\n",
            "Requirement already satisfied: MarkupSafe>=2.0 in c:\\users\\rahool-rai\\appdata\\roaming\\python\\python310\\site-packages (from jinja2->altair<6,>=4.0->streamlit) (3.0.2)\n",
            "Requirement already satisfied: six>=1.5 in c:\\users\\rahool-rai\\appdata\\roaming\\python\\python310\\site-packages (from python-dateutil>=2.8.2->pandas<3,>=1.4.0->streamlit) (1.17.0)\n",
            "Requirement already satisfied: charset-normalizer<4,>=2 in c:\\users\\rahool-rai\\appdata\\roaming\\python\\python310\\site-packages (from requests<3,>=2.27->streamlit) (3.4.2)\n",
            "Requirement already satisfied: certifi>=2017.4.17 in c:\\users\\rahool-rai\\appdata\\roaming\\python\\python310\\site-packages (from requests<3,>=2.27->streamlit) (2025.4.26)\n",
            "Requirement already satisfied: urllib3<3,>=1.21.1 in c:\\users\\rahool-rai\\appdata\\roaming\\python\\python310\\site-packages (from requests<3,>=2.27->streamlit) (2.4.0)\n",
            "Requirement already satisfied: idna<4,>=2.5 in c:\\users\\rahool-rai\\appdata\\roaming\\python\\python310\\site-packages (from requests<3,>=2.27->streamlit) (3.10)\n"
          ]
        },
        {
          "name": "stderr",
          "output_type": "stream",
          "text": [
            "WARNING: You are using pip version 21.2.3; however, version 25.1.1 is available.\n",
            "You should consider upgrading via the 'C:\\Program Files\\Python310\\python.exe -m pip install --upgrade pip' command.\n"
          ]
        }
      ],
      "source": [
        "# Import streamlit Library\n",
        "!pip install streamlit"
      ]
    },
    {
      "cell_type": "markdown",
      "metadata": {},
      "source": [
        "# 📘 Step 13: Final Deployment - Interactive Streamlit App\n",
        "We launch the Streamlit app to provide a user-friendly interface where anyone can paste news text and get instant fake/true predictions.\n",
        "The deployed model runs in the background, analyzing input text using the saved TF-IDF vectorizer and trained classifier."
      ]
    },
    {
      "cell_type": "code",
      "execution_count": 14,
      "metadata": {
        "colab": {
          "base_uri": "https://localhost:8080/"
        },
        "id": "Q3CYqDytE7_7",
        "outputId": "f79bfb63-c240-4956-e861-f6b13e8dc0fc"
      },
      "outputs": [
        {
          "name": "stderr",
          "output_type": "stream",
          "text": [
            "2025-07-30 15:50:06.700 WARNING streamlit.runtime.scriptrunner_utils.script_run_context: Thread 'MainThread': missing ScriptRunContext! This warning can be ignored when running in bare mode.\n",
            "2025-07-30 15:50:08.881 \n",
            "  \u001b[33m\u001b[1mWarning:\u001b[0m to view this Streamlit app on a browser, run it with the following\n",
            "  command:\n",
            "\n",
            "    streamlit run C:\\Users\\Rahool-Rai\\AppData\\Roaming\\Python\\Python310\\site-packages\\ipykernel_launcher.py [ARGUMENTS]\n",
            "2025-07-30 15:50:08.883 Thread 'MainThread': missing ScriptRunContext! This warning can be ignored when running in bare mode.\n",
            "2025-07-30 15:50:08.883 Thread 'MainThread': missing ScriptRunContext! This warning can be ignored when running in bare mode.\n",
            "2025-07-30 15:50:08.883 Thread 'MainThread': missing ScriptRunContext! This warning can be ignored when running in bare mode.\n",
            "2025-07-30 15:50:08.883 Thread 'MainThread': missing ScriptRunContext! This warning can be ignored when running in bare mode.\n",
            "2025-07-30 15:50:08.883 Thread 'MainThread': missing ScriptRunContext! This warning can be ignored when running in bare mode.\n",
            "2025-07-30 15:50:08.883 Thread 'MainThread': missing ScriptRunContext! This warning can be ignored when running in bare mode.\n",
            "2025-07-30 15:50:08.883 Thread 'MainThread': missing ScriptRunContext! This warning can be ignored when running in bare mode.\n",
            "2025-07-30 15:50:08.883 Session state does not function when running a script without `streamlit run`\n",
            "2025-07-30 15:50:08.883 Thread 'MainThread': missing ScriptRunContext! This warning can be ignored when running in bare mode.\n",
            "2025-07-30 15:50:08.883 Thread 'MainThread': missing ScriptRunContext! This warning can be ignored when running in bare mode.\n",
            "2025-07-30 15:50:08.883 Thread 'MainThread': missing ScriptRunContext! This warning can be ignored when running in bare mode.\n",
            "2025-07-30 15:50:08.883 Thread 'MainThread': missing ScriptRunContext! This warning can be ignored when running in bare mode.\n",
            "2025-07-30 15:50:08.899 Thread 'MainThread': missing ScriptRunContext! This warning can be ignored when running in bare mode.\n",
            "2025-07-30 15:50:08.899 Thread 'MainThread': missing ScriptRunContext! This warning can be ignored when running in bare mode.\n",
            "2025-07-30 15:50:08.902 Thread 'MainThread': missing ScriptRunContext! This warning can be ignored when running in bare mode.\n"
          ]
        }
      ],
      "source": [
        "import streamlit as st\n",
        "import pickle\n",
        "import re\n",
        "import string\n",
        "import nltk\n",
        "from nltk.corpus import stopwords\n",
        "from nltk.stem import WordNetLemmatizer\n",
        "\n",
        "# Load trained model and vectorizer\n",
        "model = pickle.load(open('model.pkl', 'rb'))\n",
        "vectorizer = pickle.load(open('vectorizer.pkl', 'rb'))\n",
        "\n",
        "# Text cleaning function\n",
        "stop_words = set(stopwords.words('english'))\n",
        "lemmatizer = WordNetLemmatizer()\n",
        "\n",
        "def clean_text(text):\n",
        "    text = text.lower()\n",
        "    text = re.sub(r'\\[.*?\\]', '', text)\n",
        "    text = re.sub(r'https?://\\S+|www\\.\\S+', '', text)\n",
        "    text = re.sub(r'<.*?>+', '', text)\n",
        "    text = re.sub(r'[%s]' % re.escape(string.punctuation), '', text)\n",
        "    text = re.sub(r'\\n', '', text)\n",
        "    text = re.sub(r'\\w*\\d\\w*', '', text)\n",
        "\n",
        "    tokens = nltk.word_tokenize(text)\n",
        "    cleaned = [lemmatizer.lemmatize(word) for word in tokens if word not in stop_words]\n",
        "    return \" \".join(cleaned)\n",
        "\n",
        "# Streamlit App\n",
        "st.title(\"📰 Fake News Detector\")\n",
        "st.write(\"Enter a news article below to detect whether it is real or fake.\")\n",
        "\n",
        "user_input = st.text_area(\"Paste News Article Here\")\n",
        "\n",
        "if st.button(\"Classify\"):\n",
        "    cleaned = clean_text(user_input)\n",
        "    vector = vectorizer.transform([cleaned])\n",
        "    prediction = model.predict(vector)\n",
        "\n",
        "    if prediction[0] == 1:\n",
        "        st.success(\"✅ This news is **REAL**.\")\n",
        "    else:\n",
        "        st.error(\"🚨 This news is **FAKE**.\")\n"
      ]
    },
    {
      "cell_type": "markdown",
      "metadata": {},
      "source": [
        "# 📘 Step 14: Install Streamlit\n",
        "We install Streamlit using pip install streamlit, which is a lightweight Python framework for building data-driven web apps.\n",
        "This tool is essential for deploying our fake news detection model with an interactive frontend."
      ]
    },
    {
      "cell_type": "code",
      "execution_count": 15,
      "metadata": {
        "colab": {
          "base_uri": "https://localhost:8080/"
        },
        "id": "660f8f6c",
        "outputId": "d1ea870e-6e13-4035-a112-3e782ea32f3d"
      },
      "outputs": [
        {
          "name": "stdout",
          "output_type": "stream",
          "text": [
            "Defaulting to user installation because normal site-packages is not writeable"
          ]
        },
        {
          "name": "stderr",
          "output_type": "stream",
          "text": [
            "WARNING: You are using pip version 21.2.3; however, version 25.1.1 is available.\n",
            "You should consider upgrading via the 'C:\\Program Files\\Python310\\python.exe -m pip install --upgrade pip' command.\n"
          ]
        },
        {
          "name": "stdout",
          "output_type": "stream",
          "text": [
            "\n",
            "Requirement already satisfied: streamlit in c:\\users\\rahool-rai\\appdata\\roaming\\python\\python310\\site-packages (1.45.1)\n",
            "Requirement already satisfied: numpy<3,>=1.23 in c:\\users\\rahool-rai\\appdata\\roaming\\python\\python310\\site-packages (from streamlit) (2.2.6)\n",
            "Requirement already satisfied: watchdog<7,>=2.1.5 in c:\\users\\rahool-rai\\appdata\\roaming\\python\\python310\\site-packages (from streamlit) (6.0.0)\n",
            "Requirement already satisfied: packaging<25,>=20 in c:\\users\\rahool-rai\\appdata\\roaming\\python\\python310\\site-packages (from streamlit) (24.2)\n",
            "Requirement already satisfied: pandas<3,>=1.4.0 in c:\\users\\rahool-rai\\appdata\\roaming\\python\\python310\\site-packages (from streamlit) (2.2.3)\n",
            "Requirement already satisfied: pydeck<1,>=0.8.0b4 in c:\\users\\rahool-rai\\appdata\\roaming\\python\\python310\\site-packages (from streamlit) (0.9.1)\n",
            "Requirement already satisfied: pyarrow>=7.0 in c:\\users\\rahool-rai\\appdata\\roaming\\python\\python310\\site-packages (from streamlit) (20.0.0)\n",
            "Requirement already satisfied: pillow<12,>=7.1.0 in c:\\users\\rahool-rai\\appdata\\roaming\\python\\python310\\site-packages (from streamlit) (11.2.1)\n",
            "Requirement already satisfied: gitpython!=3.1.19,<4,>=3.0.7 in c:\\users\\rahool-rai\\appdata\\roaming\\python\\python310\\site-packages (from streamlit) (3.1.44)\n",
            "Requirement already satisfied: blinker<2,>=1.5.0 in c:\\users\\rahool-rai\\appdata\\roaming\\python\\python310\\site-packages (from streamlit) (1.9.0)\n",
            "Requirement already satisfied: tornado<7,>=6.0.3 in c:\\users\\rahool-rai\\appdata\\roaming\\python\\python310\\site-packages (from streamlit) (6.5)\n",
            "Requirement already satisfied: click<9,>=7.0 in c:\\users\\rahool-rai\\appdata\\roaming\\python\\python310\\site-packages (from streamlit) (8.2.0)\n",
            "Requirement already satisfied: requests<3,>=2.27 in c:\\users\\rahool-rai\\appdata\\roaming\\python\\python310\\site-packages (from streamlit) (2.32.3)\n",
            "Requirement already satisfied: toml<2,>=0.10.1 in c:\\users\\rahool-rai\\appdata\\roaming\\python\\python310\\site-packages (from streamlit) (0.10.2)\n",
            "Requirement already satisfied: protobuf<7,>=3.20 in c:\\users\\rahool-rai\\appdata\\roaming\\python\\python310\\site-packages (from streamlit) (4.25.7)\n",
            "Requirement already satisfied: typing-extensions<5,>=4.4.0 in c:\\users\\rahool-rai\\appdata\\roaming\\python\\python310\\site-packages (from streamlit) (4.13.2)\n",
            "Requirement already satisfied: tenacity<10,>=8.1.0 in c:\\users\\rahool-rai\\appdata\\roaming\\python\\python310\\site-packages (from streamlit) (9.1.2)\n",
            "Requirement already satisfied: cachetools<6,>=4.0 in c:\\users\\rahool-rai\\appdata\\roaming\\python\\python310\\site-packages (from streamlit) (5.5.2)\n",
            "Requirement already satisfied: altair<6,>=4.0 in c:\\users\\rahool-rai\\appdata\\roaming\\python\\python310\\site-packages (from streamlit) (5.5.0)\n",
            "Requirement already satisfied: jinja2 in c:\\users\\rahool-rai\\appdata\\roaming\\python\\python310\\site-packages (from altair<6,>=4.0->streamlit) (3.1.6)\n",
            "Requirement already satisfied: jsonschema>=3.0 in c:\\users\\rahool-rai\\appdata\\roaming\\python\\python310\\site-packages (from altair<6,>=4.0->streamlit) (4.23.0)\n",
            "Requirement already satisfied: narwhals>=1.14.2 in c:\\users\\rahool-rai\\appdata\\roaming\\python\\python310\\site-packages (from altair<6,>=4.0->streamlit) (1.39.1)\n",
            "Requirement already satisfied: colorama in c:\\users\\rahool-rai\\appdata\\roaming\\python\\python310\\site-packages (from click<9,>=7.0->streamlit) (0.4.6)\n",
            "Requirement already satisfied: gitdb<5,>=4.0.1 in c:\\users\\rahool-rai\\appdata\\roaming\\python\\python310\\site-packages (from gitpython!=3.1.19,<4,>=3.0.7->streamlit) (4.0.12)\n",
            "Requirement already satisfied: smmap<6,>=3.0.1 in c:\\users\\rahool-rai\\appdata\\roaming\\python\\python310\\site-packages (from gitdb<5,>=4.0.1->gitpython!=3.1.19,<4,>=3.0.7->streamlit) (5.0.2)\n",
            "Requirement already satisfied: attrs>=22.2.0 in c:\\users\\rahool-rai\\appdata\\roaming\\python\\python310\\site-packages (from jsonschema>=3.0->altair<6,>=4.0->streamlit) (25.3.0)\n",
            "Requirement already satisfied: rpds-py>=0.7.1 in c:\\users\\rahool-rai\\appdata\\roaming\\python\\python310\\site-packages (from jsonschema>=3.0->altair<6,>=4.0->streamlit) (0.25.0)\n",
            "Requirement already satisfied: referencing>=0.28.4 in c:\\users\\rahool-rai\\appdata\\roaming\\python\\python310\\site-packages (from jsonschema>=3.0->altair<6,>=4.0->streamlit) (0.36.2)\n",
            "Requirement already satisfied: jsonschema-specifications>=2023.03.6 in c:\\users\\rahool-rai\\appdata\\roaming\\python\\python310\\site-packages (from jsonschema>=3.0->altair<6,>=4.0->streamlit) (2025.4.1)\n",
            "Requirement already satisfied: python-dateutil>=2.8.2 in c:\\users\\rahool-rai\\appdata\\roaming\\python\\python310\\site-packages (from pandas<3,>=1.4.0->streamlit) (2.9.0.post0)\n",
            "Requirement already satisfied: pytz>=2020.1 in c:\\users\\rahool-rai\\appdata\\roaming\\python\\python310\\site-packages (from pandas<3,>=1.4.0->streamlit) (2025.2)\n",
            "Requirement already satisfied: tzdata>=2022.7 in c:\\users\\rahool-rai\\appdata\\roaming\\python\\python310\\site-packages (from pandas<3,>=1.4.0->streamlit) (2025.2)\n",
            "Requirement already satisfied: MarkupSafe>=2.0 in c:\\users\\rahool-rai\\appdata\\roaming\\python\\python310\\site-packages (from jinja2->altair<6,>=4.0->streamlit) (3.0.2)\n",
            "Requirement already satisfied: six>=1.5 in c:\\users\\rahool-rai\\appdata\\roaming\\python\\python310\\site-packages (from python-dateutil>=2.8.2->pandas<3,>=1.4.0->streamlit) (1.17.0)\n",
            "Requirement already satisfied: urllib3<3,>=1.21.1 in c:\\users\\rahool-rai\\appdata\\roaming\\python\\python310\\site-packages (from requests<3,>=2.27->streamlit) (2.4.0)\n",
            "Requirement already satisfied: idna<4,>=2.5 in c:\\users\\rahool-rai\\appdata\\roaming\\python\\python310\\site-packages (from requests<3,>=2.27->streamlit) (3.10)\n",
            "Requirement already satisfied: charset-normalizer<4,>=2 in c:\\users\\rahool-rai\\appdata\\roaming\\python\\python310\\site-packages (from requests<3,>=2.27->streamlit) (3.4.2)\n",
            "Requirement already satisfied: certifi>=2017.4.17 in c:\\users\\rahool-rai\\appdata\\roaming\\python\\python310\\site-packages (from requests<3,>=2.27->streamlit) (2025.4.26)\n"
          ]
        }
      ],
      "source": [
        "!pip install streamlit"
      ]
    },
    {
      "cell_type": "markdown",
      "metadata": {},
      "source": [
        "# 📘 Step 15: Export the Streamlit App as app.py\n",
        "We create and save our Streamlit interface code in a file named app.py, which serves as the entry point for the web app.\n",
        "This script loads the saved model and vectorizer, processes user input, and displays fake or real predictions interactively."
      ]
    },
    {
      "cell_type": "code",
      "execution_count": 16,
      "metadata": {
        "colab": {
          "base_uri": "https://localhost:8080/"
        },
        "id": "7338411c",
        "outputId": "be21450e-70f3-47a3-a827-6ccf975f4a94"
      },
      "outputs": [
        {
          "name": "stdout",
          "output_type": "stream",
          "text": [
            "Overwriting app.py\n"
          ]
        }
      ],
      "source": [
        "%%writefile app.py\n",
        "import streamlit as st\n",
        "import pickle\n",
        "import re\n",
        "import string\n",
        "import nltk\n",
        "from nltk.corpus import stopwords\n",
        "from nltk.stem import WordNetLemmatizer\n",
        "\n",
        "# Load trained model and vectorizer\n",
        "model = pickle.load(open('model.pkl', 'rb'))\n",
        "vectorizer = pickle.load(open('vectorizer.pkl', 'rb'))\n",
        "\n",
        "# Text cleaning function\n",
        "stop_words = set(stopwords.words('english'))\n",
        "lemmatizer = WordNetLemmatizer()\n",
        "\n",
        "def clean_text(text):\n",
        "    text = text.lower()\n",
        "    text = re.sub(r'\\[.*?\\]', '', text)\n",
        "    text = re.sub(r'https?://\\S+|www\\.\\S+', '', text)\n",
        "    text = re.sub(r'<.*?>+', '', text)\n",
        "    text = re.sub(r'[%s]' % re.escape(string.punctuation), '', text)\n",
        "    text = re.sub(r'\\n', '', text)\n",
        "    text = re.sub(r'\\w*\\d\\w*', '', text)\n",
        "\n",
        "    tokens = nltk.word_tokenize(text)\n",
        "    cleaned = [lemmatizer.lemmatize(word) for word in tokens if word not in stop_words]\n",
        "    return \" \".join(cleaned)\n",
        "\n",
        "# Streamlit App\n",
        "st.title(\"📰 Fake News Detector\")\n",
        "st.write(\"Enter a news article below to detect whether it is real or fake.\")\n",
        "\n",
        "user_input = st.text_area(\"Paste News Article Here\")\n",
        "\n",
        "if st.button(\"Classify\"):\n",
        "    cleaned = clean_text(user_input)\n",
        "    vector = vectorizer.transform([cleaned])\n",
        "    prediction = model.predict(vector)\n",
        "\n",
        "    if prediction[0] == 1:\n",
        "        st.success(\"✅ This news is **REAL**.\")\n",
        "    else:\n",
        "        st.error(\"🚨 This news is **FAKE**.\")"
      ]
    },
    {
      "cell_type": "markdown",
      "metadata": {},
      "source": [
        "# 📘 Step 16: Run the Streamlit App\n",
        "We launch the app by running streamlit run app.py in the terminal or command prompt.\n",
        "This starts a local server, opening a browser window where users can test the fake news detection model interactively."
      ]
    },
    {
      "cell_type": "code",
      "execution_count": null,
      "metadata": {
        "colab": {
          "base_uri": "https://localhost:8080/"
        },
        "id": "97a4896f",
        "outputId": "a8715d37-c289-4fc8-92a6-5eeac5981db1"
      },
      "outputs": [],
      "source": [
        "!streamlit run app.py"
      ]
    }
  ],
  "metadata": {
    "colab": {
      "provenance": []
    },
    "kernelspec": {
      "display_name": "Python 3",
      "name": "python3"
    },
    "language_info": {
      "codemirror_mode": {
        "name": "ipython",
        "version": 3
      },
      "file_extension": ".py",
      "mimetype": "text/x-python",
      "name": "python",
      "nbconvert_exporter": "python",
      "pygments_lexer": "ipython3",
      "version": "3.10.0"
    }
  },
  "nbformat": 4,
  "nbformat_minor": 0
}
